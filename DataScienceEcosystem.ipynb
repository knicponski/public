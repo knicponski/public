{
 "cells": [
  {
   "cell_type": "markdown",
   "metadata": {},
   "source": [
    "<center>\n",
    "    <img src=\"https://cf-courses-data.s3.us.cloud-object-storage.appdomain.cloud/IBMDeveloperSkillsNetwork-DS0105EN-SkillsNetwork/labs/Module2/images/SN_web_lightmode.png\" width=\"300\" alt=\"cognitiveclass.ai logo\">\n",
    "</center>\n"
   ]
  },
  {
   "cell_type": "markdown",
   "metadata": {},
   "source": [
    "#### Add your code below following the instructions given in the course\n"
   ]
  },
  {
   "cell_type": "markdown",
   "metadata": {},
   "source": [
    "# My Jupyter Notebook Title"
   ]
  },
  {
   "cell_type": "markdown",
   "metadata": {
    "editable": true,
    "slideshow": {
     "slide_type": ""
    },
    "tags": []
   },
   "source": [
    "## Introduction\n",
    "\n",
    "This notebook is for the graded peer assigment"
   ]
  },
  {
   "cell_type": "markdown",
   "metadata": {},
   "source": [
    "## Data Science Languages\n",
    "\n",
    "Languages used in data science:\n",
    "\n",
    "- **Python** – Widely used for data analysis, machine learning, and visualization.\n",
    "- **R** – Preferred for statistical computing and data visualization.\n",
    "- **SQL** – Essential for querying and managing structured data.\n",
    "- **Julia** – Known for high-performance numerical computing.\n",
    "- **Scala** – Often used with big data frameworks like Apache Spark.\n",
    "- **Java** – Useful for building data-intensive applications.\n",
    "- **MATLAB** – Commonly used for mathematical modeling and simulations.\n",
    "\n"
   ]
  },
  {
   "cell_type": "markdown",
   "metadata": {},
   "source": [
    "# Data Science Libraries\n",
    "\n",
    "## Python\n",
    "- NumPy\n",
    "- Pandas\n",
    "- Matplotlib\n",
    "- Seaborn\n",
    "- SciPy\n",
    "- Scikit-learn\n",
    "- Statsmodels\n",
    "- TensorFlow\n",
    "- PyTorch\n",
    "- XGBoost\n",
    "\n",
    "## R\n",
    "- dplyr\n",
    "- ggplot2\n",
    "- tidyr\n",
    "- caret\n",
    "- randomForest\n",
    "- glmnet\n",
    "- e1071\n",
    "- xgboost\n",
    "- kernlab\n",
    "\n",
    "## Julia\n",
    "- DataFrames.jl\n",
    "- Plots.jl\n",
    "- Statistics.jl\n",
    "- MLJ.jl\n",
    "- Flux.jl"
   ]
  },
  {
   "cell_type": "markdown",
   "metadata": {},
   "source": [
    "# Data Science Tools\n",
    "\n",
    "| Tool          | Category         | Description |\n",
    "|--------------|----------------|-------------|\n",
    "| Jupyter Notebook | Interactive Computing | Web-based environment for coding, visualizing, and documenting analyses |\n",
    "| Anaconda | Package Management | Distribution of Python and R for data science and machine learning |\n",
    "| VS Code | Code Editor | Lightweight code editor with extensions for data science workflows |\n",
    "| RStudio | IDE | Integrated development environment for R programming |\n",
    "| Apache Spark | Big Data Processing | Distributed computing framework for handling large-scale data |\n",
    "| Tableau | Data Visualization | Business intelligence and data visualization platform |\n",
    "| Power BI | Data Visualization | Microsoft tool for interactive visualizations and business analytics |\n",
    "| Google Colab | Cloud Computing | Jupyter Notebook environment with free GPU access |\n",
    "| TensorFlow | Machine Learning | Open-source framework for deep learning and AI |\n",
    "| PyTorch | Machine Learning | Open-source ML library for deep learning applications |"
   ]
  },
  {
   "cell_type": "markdown",
   "metadata": {},
   "source": [
    "# List of Arithmetic Expressions\n",
    "\n",
    "## Basic Operations\n",
    "- **Addition:** `5 + 3 = 8`\n",
    "- **Subtraction:** `10 - 4 = 6`\n",
    "- **Multiplication:** `7 * 2 = 14`\n",
    "- **Division:** `12 / 3 = 4`\n",
    "\n",
    "## Advanced Operations\n",
    "- **Exponentiation:** `2 ** 3 = 8`\n",
    "- **Modulus (Remainder):** `10 % 3 = 1`\n",
    "- **Floor Division:** `10 // 3 = 3`\n",
    "\n",
    "## Parentheses & Order of Operations\n",
    "- `2 + (3 * 4) = 14`\n",
    "- `(5 + 3) * 2 = 16`\n",
    "\n",
    "## Combining Operations\n",
    "- `4 + 6 * 2 - 3 / 1 = 11`\n",
    "- `(8 + 2) ** 2 - 5 = 95`\n",
    "\n"
   ]
  },
  {
   "cell_type": "code",
   "execution_count": 5,
   "metadata": {},
   "outputs": [
    {
     "name": "stdout",
     "output_type": "stream",
     "text": [
      "28\n",
      "11\n"
     ]
    }
   ],
   "source": [
    "# Multiply and add numbers\n",
    "x = 7\n",
    "y = 4\n",
    "\n",
    "multiplication_result = x * y\n",
    "addition_result = x + y\n",
    "\n",
    "print(multiplication_result)\n",
    "print(addition_result)\n"
   ]
  },
  {
   "cell_type": "code",
   "execution_count": 6,
   "metadata": {},
   "outputs": [
    {
     "name": "stdout",
     "output_type": "stream",
     "text": [
      "2.5\n"
     ]
    }
   ],
   "source": [
    "# Convert minutes to hours\n",
    "\n",
    "minutes = 150\n",
    "hours = minutes/60\n",
    "\n",
    "print(hours)"
   ]
  },
  {
   "cell_type": "markdown",
   "metadata": {},
   "source": [
    "# Objectives\n",
    "\n",
    "- Understand the fundamentals of data science\n",
    "- Learn key programming concepts in Python and R\n",
    "- Explore data visualization techniques\n",
    "- Implement machine learning algorithms\n",
    "- Apply statistical analysis to real-world datasets\n",
    "- Develop predictive models for decision-making\n",
    "- Improve problem-solving and analytical skills\n",
    "- Work on hands-on projects and case studies\n"
   ]
  },
  {
   "cell_type": "code",
   "execution_count": 12,
   "metadata": {},
   "outputs": [
    {
     "data": {
      "text/plain": [
       "'Author:Kerry'"
      ]
     },
     "execution_count": 12,
     "metadata": {},
     "output_type": "execute_result"
    }
   ],
   "source": [
    "# Author\n",
    "'Author:Kerry'"
   ]
  },
  {
   "cell_type": "code",
   "execution_count": null,
   "metadata": {},
   "outputs": [],
   "source": []
  }
 ],
 "metadata": {
  "kernelspec": {
   "display_name": "Python 3 (ipykernel)",
   "language": "python",
   "name": "python3"
  },
  "language_info": {
   "codemirror_mode": {
    "name": "ipython",
    "version": 3
   },
   "file_extension": ".py",
   "mimetype": "text/x-python",
   "name": "python",
   "nbconvert_exporter": "python",
   "pygments_lexer": "ipython3",
   "version": "3.12.8"
  }
 },
 "nbformat": 4,
 "nbformat_minor": 4
}
